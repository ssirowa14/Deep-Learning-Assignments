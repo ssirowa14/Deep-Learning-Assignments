{
 "cells": [
  {
   "cell_type": "code",
   "execution_count": 0,
   "metadata": {
    "colab": {},
    "colab_type": "code",
    "id": "02xt0pat2TF_"
   },
   "outputs": [],
   "source": [
    "import torch\n",
    "import numpy as np\n",
    "import pandas as pd\n",
    "from sklearn.preprocessing import MinMaxScaler\n",
    "from sklearn.model_selection import train_test_split\n",
    "import matplotlib.pyplot as plt\n",
    "np.random.seed(1244)"
   ]
  },
  {
   "cell_type": "code",
   "execution_count": 5,
   "metadata": {
    "colab": {
     "base_uri": "https://localhost:8080/",
     "height": 833
    },
    "colab_type": "code",
    "id": "04eyCiC82bzm",
    "outputId": "6bf20e0f-b92e-4216-83f9-09efcc9a6893"
   },
   "outputs": [
    {
     "name": "stdout",
     "output_type": "stream",
     "text": [
      "Max Iterations: 20000000\n",
      "\n",
      "\n",
      "\n",
      "Divergence Observed at iteration 322 for learning rate 0.1\n",
      "Learning Rate: 0.1\n",
      "Final Error:  nan\n",
      "W1:  0.0\n",
      "W2: nan\n",
      "Iterations Used:  323\n",
      "\n",
      "\n",
      "Learning Rate: 0.01\n",
      "Final Error:  9.295100429904153e-08\n",
      "W1:  1.6731180773827477e-06\n",
      "W2: 0.0\n",
      "Iterations Used:  149\n",
      "\n",
      "\n",
      "Learning Rate: 0.001\n",
      "Final Error:  9.914681783409995e-08\n",
      "W1:  1.9631069931151936e-05\n",
      "W2: 1.1471077827670015e-59\n",
      "Iterations Used:  1317\n",
      "\n",
      "\n",
      "Learning Rate: 0.0001\n",
      "Final Error:  9.996298933246826e-08\n",
      "W1:  0.0001997260526862616\n",
      "W2: 4.986864277277469e-47\n",
      "Iterations Used:  10911\n",
      "\n",
      "\n",
      "Learning Rate: 1e-05\n",
      "Final Error:  9.999727378822224e-08\n",
      "W1:  0.0019997454812184954\n",
      "W2: 7.965192805194504e-37\n",
      "Iterations Used:  86122\n",
      "\n",
      "\n",
      "Learning Rate: 1e-06\n",
      "Final Error:  9.99996728565794e-08\n",
      "W1:  0.019999734572085717\n",
      "W2: 8.266116321023341e-27\n",
      "Iterations Used:  630990\n",
      "\n",
      "\n"
     ]
    }
   ],
   "source": [
    "numIter = 20000000\n",
    "learnRate = [1e-1, 1e-2, 1e-3, 1e-4, 1e-5, 1e-6]\n",
    "epsilon = 1e-7\n",
    "\n",
    "print(\"Max Iterations:\",numIter)\n",
    "print(\"\\n\\n\")\n",
    "for lr in learnRate:\n",
    "    error = 100.0\n",
    "    iteration = 0\n",
    "    w1 = 11\n",
    "    w2 = 21\n",
    "    lambda1 = 10\n",
    "    lambda2 = 100\n",
    "    while iteration<numIter and error>epsilon:\n",
    "        prevW1 = w1\n",
    "        prevW2 = w2\n",
    "        w1 = w1 - lr*lambda1*w1\n",
    "        w2 = w2 - lr*lambda2*w2\n",
    "        if np.isnan(w2) or np.isnan(w1):\n",
    "            print(\"Divergence Observed at iteration {} for learning rate {}\".format(iteration,lr))\n",
    "#             print(w1,w2)\n",
    "        error = (abs(prevW1-w1)+abs(prevW2-w2))*0.5\n",
    "        iteration += 1\n",
    "        if iteration%100 == 101:\n",
    "            print(\"Iteration =\",iteration,\"|| Error =\",error, \"|| W1 =\",w1,\"|| W2 =\",w2)\n",
    "\n",
    "    print(\"Learning Rate:\", lr)\n",
    "    print(\"Final Error: \",error)\n",
    "    print(\"W1: \",w1)\n",
    "    print(\"W2:\", w2)\n",
    "    print(\"Iterations Used: \",iteration)\n",
    "    print(\"\\n\")"
   ]
  },
  {
   "cell_type": "code",
   "execution_count": 0,
   "metadata": {
    "colab": {},
    "colab_type": "code",
    "id": "WEHouMnt4upJ"
   },
   "outputs": [],
   "source": []
  }
 ],
 "metadata": {
  "colab": {
   "collapsed_sections": [],
   "name": "DL3_2.ipynb",
   "provenance": []
  },
  "kernelspec": {
   "display_name": "Python 3",
   "language": "python",
   "name": "python3"
  },
  "language_info": {
   "codemirror_mode": {
    "name": "ipython",
    "version": 3
   },
   "file_extension": ".py",
   "mimetype": "text/x-python",
   "name": "python",
   "nbconvert_exporter": "python",
   "pygments_lexer": "ipython3",
   "version": "3.6.8"
  }
 },
 "nbformat": 4,
 "nbformat_minor": 1
}
