{
  "nbformat": 4,
  "nbformat_minor": 0,
  "metadata": {
    "colab": {
      "name": "DL3_3.ipynb",
      "provenance": [],
      "collapsed_sections": []
    },
    "kernelspec": {
      "name": "python3",
      "display_name": "Python 3"
    }
  },
  "cells": [
    {
      "cell_type": "code",
      "metadata": {
        "id": "0uUWoU0Og9s4",
        "colab_type": "code",
        "colab": {}
      },
      "source": [
        "import torch\n",
        "import numpy as np\n",
        "import pandas as pd\n",
        "from sklearn.preprocessing import MinMaxScaler\n",
        "from sklearn.model_selection import train_test_split\n",
        "import matplotlib.pyplot as plt\n",
        "np.random.seed(1244)"
      ],
      "execution_count": 0,
      "outputs": []
    },
    {
      "cell_type": "code",
      "metadata": {
        "id": "l-kSZSurhFFJ",
        "colab_type": "code",
        "outputId": "a6881c85-d4a7-436a-a1be-025aa3dbb821",
        "colab": {
          "base_uri": "https://localhost:8080/",
          "height": 173
        }
      },
      "source": [
        "#read training data\n",
        "data = pd.read_csv(\"train_data.txt\")\n",
        "print(data.head())\n",
        "trainY = data[\"Occupancy\"].values\n",
        "data = data.drop([\"date\", \"Occupancy\"], axis=1)\n",
        "trainX = data.values\n",
        "print(data.shape)"
      ],
      "execution_count": 2,
      "outputs": [
        {
          "output_type": "stream",
          "text": [
            "                  date  Temperature  Humidity  ...     CO2  HumidityRatio  Occupancy\n",
            "1  2015-02-04 17:51:00        23.18   27.2720  ...  721.25       0.004793          1\n",
            "2  2015-02-04 17:51:59        23.15   27.2675  ...  714.00       0.004783          1\n",
            "3  2015-02-04 17:53:00        23.15   27.2450  ...  713.50       0.004779          1\n",
            "4  2015-02-04 17:54:00        23.15   27.2000  ...  708.25       0.004772          1\n",
            "5  2015-02-04 17:55:00        23.10   27.2000  ...  704.50       0.004757          1\n",
            "\n",
            "[5 rows x 7 columns]\n",
            "(8143, 5)\n"
          ],
          "name": "stdout"
        }
      ]
    },
    {
      "cell_type": "code",
      "metadata": {
        "id": "Jx1t6YV98PZt",
        "colab_type": "code",
        "outputId": "0fcb6e51-c23b-4ff6-f305-8c0ff3079e52",
        "colab": {
          "base_uri": "https://localhost:8080/",
          "height": 34
        }
      },
      "source": [
        "#read test data\n",
        "testX = pd.read_csv(\"test_data.txt\")\n",
        "testY = testX[\"Occupancy\"].values\n",
        "testX = testX.drop([\"date\", \"Occupancy\"], axis=1)\n",
        "testX = torch.Tensor(testX.values)\n",
        "print(testX.shape)"
      ],
      "execution_count": 3,
      "outputs": [
        {
          "output_type": "stream",
          "text": [
            "torch.Size([9752, 5])\n"
          ],
          "name": "stdout"
        }
      ]
    },
    {
      "cell_type": "code",
      "metadata": {
        "id": "cpezbNH3t9B9",
        "colab_type": "code",
        "colab": {}
      },
      "source": [
        "# function to make batches\n",
        "def makeBatch(data, labels, batchSize):\n",
        "    N = int(data.shape[0]/batchSize)\n",
        "    X = []\n",
        "    Y = []\n",
        "    #slicing original list to creating batch\n",
        "    for i in range(N):\n",
        "        X.append(torch.Tensor(data[i*batchSize:(i+1)*batchSize]))\n",
        "        Y.append(torch.Tensor(labels[i*batchSize:(i+1)*batchSize]).reshape(-1,1))\n",
        "    \n",
        "    #create a new batch of remaining elements\n",
        "    if data.shape[0]%batchSize != 0:\n",
        "        X.append(torch.Tensor(data[N*batchSize:]))\n",
        "        Y.append(torch.Tensor(labels[N*batchSize:]).reshape(-1,1))\n",
        "    return X, Y"
      ],
      "execution_count": 0,
      "outputs": []
    },
    {
      "cell_type": "code",
      "metadata": {
        "id": "uhUBa_yEDF-x",
        "colab_type": "code",
        "colab": {}
      },
      "source": [
        "#function to compute baseline performance\n",
        "def baseline(testX, testY):\n",
        "    correct = 0\n",
        "    for y in testY:\n",
        "        prediction = 0\n",
        "        for i in range(5):\n",
        "          prediction += np.random.randint(2)\n",
        "        if prediction < 3 and y == 0:\n",
        "            correct += 1\n",
        "        elif prediction >= 3 and y == 1:\n",
        "            correct += 1\n",
        "            \n",
        "    print(\"Baseline Performance: \", correct/len(testY))\n",
        "    return 1-correct/len(testY)"
      ],
      "execution_count": 0,
      "outputs": []
    },
    {
      "cell_type": "code",
      "metadata": {
        "id": "dTMC-q-k4g5w",
        "colab_type": "code",
        "colab": {}
      },
      "source": [
        "#function to test the model\n",
        "#plotevery flag is used to return training error\n",
        "#ret flag is used to return testing accuracy\n",
        "def test(model, loss_fn, X, Y, plotEvery=False, ret=False):\n",
        "    with torch.no_grad():\n",
        "        model.eval()\n",
        "        y_pred = model(X)\n",
        "        \n",
        "    #computing accuracy\n",
        "    correct = 0\n",
        "    for i in range(len(y_pred)):\n",
        "        if y_pred[i] >= 0.5 and Y[i] == 1:\n",
        "            correct += 1\n",
        "        elif y_pred[i] < 0.5 and Y[i] == 0:\n",
        "            correct += 1\n",
        "            \n",
        "    if plotEvery:\n",
        "        return 1.0-correct/len(Y)\n",
        "    if ret:\n",
        "        return correct/len(Y)\n",
        "    print(\"Accuracy: \", correct/len(Y))"
      ],
      "execution_count": 0,
      "outputs": []
    },
    {
      "cell_type": "code",
      "metadata": {
        "id": "IeobK8SetTjC",
        "colab_type": "code",
        "colab": {}
      },
      "source": [
        "#function to train the model\n",
        "def learn(model, loss_fn, optimizer, X, Y, epoch, dataX=[], dataY=[], baseError=0.5, plotEvery=False):\n",
        "    trainError = []\n",
        "    dataX = torch.Tensor(dataX)\n",
        "    dataY = torch.Tensor(dataY).view(-1,1)\n",
        "    iter = 0\n",
        "    #do it for every epoch\n",
        "    for i in range(epoch):\n",
        "        training_loss = 0.0\n",
        "        model.train()\n",
        "        #do it for every batch\n",
        "        for j in range(len(X)):\n",
        "            x = X[j]\n",
        "            y = Y[j]\n",
        "            y_pred = model(x)\n",
        "            #compute loss\n",
        "            loss = loss_fn(y_pred, y)\n",
        "            optimizer.zero_grad()\n",
        "            loss.backward()\n",
        "            optimizer.step()\n",
        "            \n",
        "            training_loss += loss.item()\n",
        "        if i == epoch-1:\n",
        "            print(i+1, \"th epoch Loss:\",training_loss/len(X)) \n",
        "            \n",
        "        #plotting training error every 20th epoch\n",
        "        if plotEvery and i%20 == 19: \n",
        "            iter += 1\n",
        "            trainError.append(test(model, loss_fn, dataX, dataY, True))\n",
        "        \n",
        "    #plotting training error\n",
        "    if plotEvery == True:\n",
        "        X = np.arange(1, iter+1)*20\n",
        "        baseY = [baseError]*iter\n",
        "        plt.plot(X, trainError, color='red', label=\"Training\")\n",
        "        plt.plot(X, baseY, color='blue', label=\"Baseline\")\n",
        "        plt.xlabel(\"Epoch\")\n",
        "        plt.ylabel(\"Error\")\n",
        "        plt.legend()\n",
        "        plt.show()\n",
        "        \n",
        "            \n",
        "    return model"
      ],
      "execution_count": 0,
      "outputs": []
    },
    {
      "cell_type": "markdown",
      "metadata": {
        "id": "-SCMnX2PJ2M5",
        "colab_type": "text"
      },
      "source": [
        "###Answer to all the parts(a-f) of 3rd question are shown in the output cell"
      ]
    },
    {
      "cell_type": "markdown",
      "metadata": {
        "id": "C5TG2AzqSEXh",
        "colab_type": "text"
      },
      "source": [
        "### Note: We used 1 neuron in output layer because we are instructed in the question to do so. The results are quite sensitive to weight initialisations. The outputs and graphs of a-f are given in next output cell. part g is answered in last 2 ouput cells.<br>\n",
        "<h4>a) The architecture consists of a 100 neuron hidden layer. The training accuracy is 0.95 and testing accuracy is 0.94.\n",
        "<br><br>\n",
        "b) The baseline error is 0.505.\n",
        "<br><br>\n",
        "c) We can verify from the graph that eventually falls below the baseline error. The training accuracy is 0.93 and testing accuracy is 0.94.\n",
        "<br><br>\n",
        "d) On using batch gradient descent we observe a decrease in both training and testing accuracies. Both the accuracies fall to 78%. When we learn over entire dataset the gradients gets averaged and randomness reduces. This exposes the model to being stuck in a local minima. Mini-batches don't suffer this disadvantage and hence this explains the results.\n",
        "<br><br>\n",
        "e) We have used Adam optimizer it adapts the learning rate accordingly. It is observed that hidden layer with 1 neuron performs worst followed by 5 neurons. Performance is nearly same for architecture of 10 and 20 neurons.\n",
        "<br><br>\n",
        "f) BCELoss is supposed to work better for classification problems while MSELoss is supposed to work better for regression problems. Same can be reaffirmed by our observation from mini-batch SGD results. With BCELoss training and testing accuracies are above 90% and with MSELoss it falls around 80%. We conclude that MSELoss penalizes error badly and hurts the model. Similar trend can be in case of number of neurons vs accuracy graph.\n",
        "<br><br>\n",
        "g) Following are the architectures we tried:<br>\n",
        "i)  First hidden layer 60 neurons, second hidden layer 10 neurons.<br> \n",
        "ii) first hidden layer 60 neurons, second hidden layer 10 neurons.<br>\n",
        "Both of them perform with an accuracy of a little above 94%. This is nearly same to the architecture given in part a. We conclude that the model becomes more  complex and overfits on the training data.</h4>\n"
      ]
    },
    {
      "cell_type": "code",
      "metadata": {
        "id": "rcC-8aqUi0a4",
        "colab_type": "code",
        "outputId": "05e57394-3c00-43f6-cd48-b3452b1484e6",
        "colab": {
          "base_uri": "https://localhost:8080/",
          "height": 1000
        }
      },
      "source": [
        "#Answer to part 3) a)\n",
        "print(\"A) \")\n",
        "model = torch.nn.Sequential(\n",
        "    torch.nn.Linear(5, 100),\n",
        "    torch.nn.Sigmoid(),\n",
        "    torch.nn.Linear(100, 1),\n",
        "    torch.nn.Sigmoid()\n",
        ")\n",
        "loss_fn = torch.nn.BCELoss()\n",
        "optimizer = torch.optim.Adam(model.parameters(), lr=1e-4)\n",
        "X, Y = makeBatch(trainX, trainY, 1000)\n",
        "model = learn(model, loss_fn, optimizer, X, Y, 1000)\n",
        "print(\"Train \", end=\"\")\n",
        "test(model, loss_fn, torch.Tensor(trainX), torch.Tensor(trainY))\n",
        "print(\"Test \", end=\"\")\n",
        "test(model, loss_fn, testX, testY)\n",
        "print(\"\\n\\n\")\n",
        "\n",
        "#Answer to part 3) b) \n",
        "print(\"B) \")\n",
        "baseError = baseline(testX, testY)\n",
        "print(\"\\n\\n\")\n",
        "\n",
        "for flag in range(2):\n",
        "    if(flag == 0):\n",
        "        loss_fn = torch.nn.BCELoss()\n",
        "    else:\n",
        "        loss_fn = torch.nn.MSELoss()\n",
        "\n",
        "    #Answer to part 3) c)\n",
        "    if(flag == 0):\n",
        "        print(\"C) \")\n",
        "    else:\n",
        "        print(\"F) doing C again\")\n",
        "    model = torch.nn.Sequential(\n",
        "        torch.nn.Linear(5, 5),\n",
        "        torch.nn.Sigmoid(),\n",
        "        torch.nn.Linear(5, 1),\n",
        "        torch.nn.Sigmoid()\n",
        "    )\n",
        "    optimizer = torch.optim.SGD(model.parameters(), lr=1e-3)\n",
        "    X, Y = makeBatch(trainX, trainY, 100)\n",
        "    model = learn(model, loss_fn, optimizer, X, Y, 500, trainX, trainY, baseError, True)\n",
        "    print(\"Train \", end=\"\")\n",
        "    test(model, loss_fn, torch.Tensor(trainX), torch.Tensor(trainY))\n",
        "    print(\"Test \", end=\"\")\n",
        "    test(model, loss_fn, testX, testY)\n",
        "    print(\"\\n\\n\")\n",
        "\n",
        "    #Answer to part 3) d)\n",
        "    if(flag == 0):\n",
        "        print(\"D) \")\n",
        "    else:\n",
        "        print(\"F) doing C again\")\n",
        "    model = torch.nn.Sequential(\n",
        "        torch.nn.Linear(5, 5),\n",
        "        torch.nn.Sigmoid(),\n",
        "        torch.nn.Linear(5, 1),\n",
        "        torch.nn.Sigmoid()\n",
        "    )\n",
        "    optimizer = torch.optim.SGD(model.parameters(), lr=1e-3)\n",
        "    X, Y = makeBatch(trainX, trainY, len(trainX))\n",
        "    model = learn(model, loss_fn, optimizer, X, Y, 500, trainX, trainY, baseError, True)\n",
        "    print(\"Train \", end=\"\")\n",
        "    test(model, loss_fn, torch.Tensor(trainX), torch.Tensor(trainY))\n",
        "    print(\"Test \", end=\"\")\n",
        "    test(model, loss_fn, testX, testY)\n",
        "    print(\"\\n\\n\")\n",
        "\n",
        "#     Answer to part 3) e)\n",
        "    if(flag == 0):\n",
        "        print(\"E) \")\n",
        "    else:\n",
        "        print(\"F) doing C again\")\n",
        "    H = [1, 2, 5, 10, 20]\n",
        "    testAcc = []\n",
        "    trainAcc = []\n",
        "    for h in H:\n",
        "        model = torch.nn.Sequential(\n",
        "            torch.nn.Linear(5, h),\n",
        "            torch.nn.Sigmoid(),\n",
        "            torch.nn.Linear(h, 1),\n",
        "            torch.nn.Sigmoid()\n",
        "        )\n",
        "        optimizer = torch.optim.Adam(model.parameters(), lr=1e-3)\n",
        "        X, Y = makeBatch(trainX, trainY, 1000)\n",
        "        model = learn(model, loss_fn, optimizer, X, Y, 500)\n",
        "        testAcc.append(test(model, loss_fn, testX, testY, ret=True))\n",
        "        trainAcc.append(test(model, loss_fn, torch.Tensor(trainX), torch.Tensor(trainY), ret=True))\n",
        "\n",
        "\n",
        "    plt.plot(H, trainAcc, color='red', label=\"Training\")\n",
        "    plt.plot(H, testAcc, color='blue', label=\"Testing\")\n",
        "    plt.xlabel(\"H\")\n",
        "    plt.ylabel(\"Accuracy\")\n",
        "    plt.legend()\n",
        "    plt.show()"
      ],
      "execution_count": 36,
      "outputs": [
        {
          "output_type": "stream",
          "text": [
            "A) \n",
            "1000 th epoch Loss: 0.1062175254854891\n",
            "Train Accuracy:  0.9554218347046542\n",
            "Test Accuracy:  0.9470877768662839\n",
            "\n",
            "\n",
            "\n",
            "B) \n",
            "Baseline Performance:  0.5052296964725185\n",
            "\n",
            "\n",
            "\n",
            "C) \n",
            "500 th epoch Loss: 0.18657878027638283\n"
          ],
          "name": "stdout"
        },
        {
          "output_type": "display_data",
          "data": {
            "image/png": "[encoded data removed]",
            "text/plain": [
              "<Figure size 432x288 with 1 Axes>"
            ]
          },
          "metadata": {
            "tags": []
          }
        },
        {
          "output_type": "stream",
          "text": [
            "Train Accuracy:  0.9301240329117033\n",
            "Test Accuracy:  0.940422477440525\n",
            "\n",
            "\n",
            "\n",
            "D) \n",
            "500 th epoch Loss: 0.6334252953529358\n"
          ],
          "name": "stdout"
        },
        {
          "output_type": "display_data",
          "data": {
            "image/png": "[encoded data removed]",
            "text/plain": [
              "<Figure size 432x288 with 1 Axes>"
            ]
          },
          "metadata": {
            "tags": []
          }
        },
        {
          "output_type": "stream",
          "text": [
            "Train Accuracy:  0.7876703917475132\n",
            "Test Accuracy:  0.7898892534864643\n",
            "\n",
            "\n",
            "\n",
            "E) \n",
            "500 th epoch Loss: 0.5375909705956777\n",
            "500 th epoch Loss: 0.08096265689366394\n",
            "500 th epoch Loss: 0.12420120379991001\n",
            "500 th epoch Loss: 0.09246534357468288\n",
            "500 th epoch Loss: 0.06711751564095418\n"
          ],
          "name": "stdout"
        },
        {
          "output_type": "display_data",
          "data": {
            "image/png": "[encoded data removed]",
            "text/plain": [
              "<Figure size 432x288 with 1 Axes>"
            ]
          },
          "metadata": {
            "tags": []
          }
        },
        {
          "output_type": "stream",
          "text": [
            "F) doing C again\n",
            "500 th epoch Loss: 0.17039914951637025\n"
          ],
          "name": "stdout"
        },
        {
          "output_type": "display_data",
          "data": {
            "image/png": "[encoded data removed]",
            "text/plain": [
              "<Figure size 432x288 with 1 Axes>"
            ]
          },
          "metadata": {
            "tags": []
          }
        },
        {
          "output_type": "stream",
          "text": [
            "Train Accuracy:  0.7876703917475132\n",
            "Test Accuracy:  0.7898892534864643\n",
            "\n",
            "\n",
            "\n",
            "F) doing C again\n",
            "500 th epoch Loss: 0.1701621413230896\n"
          ],
          "name": "stdout"
        },
        {
          "output_type": "display_data",
          "data": {
            "image/png": "[encoded data removed]",
            "text/plain": [
              "<Figure size 432x288 with 1 Axes>"
            ]
          },
          "metadata": {
            "tags": []
          }
        },
        {
          "output_type": "stream",
          "text": [
            "Train Accuracy:  0.7876703917475132\n",
            "Test Accuracy:  0.7898892534864643\n",
            "\n",
            "\n",
            "\n",
            "F) doing C again\n",
            "500 th epoch Loss: 0.17638144973251554\n",
            "500 th epoch Loss: 0.016409302906443674\n",
            "500 th epoch Loss: 0.02994543044931359\n",
            "500 th epoch Loss: 0.02195744226790137\n",
            "500 th epoch Loss: 0.017007018594692152\n"
          ],
          "name": "stdout"
        },
        {
          "output_type": "display_data",
          "data": {
            "image/png": "[encoded data removed]",
            "text/plain": [
              "<Figure size 432x288 with 1 Axes>"
            ]
          },
          "metadata": {
            "tags": []
          }
        }
      ]
    },
    {
      "cell_type": "markdown",
      "metadata": {
        "id": "ePmFvJ43Khej",
        "colab_type": "text"
      },
      "source": [
        "### Answer to 3) g)"
      ]
    },
    {
      "cell_type": "code",
      "metadata": {
        "id": "WcelBe_Fbh3O",
        "colab_type": "code",
        "outputId": "aeeee0f3-716d-4394-eb00-a622707c11b9",
        "colab": {
          "base_uri": "https://localhost:8080/",
          "height": 139
        }
      },
      "source": [
        "print(\"G) \")\n",
        "model = torch.nn.Sequential(\n",
        "    torch.nn.Linear(5, 50),\n",
        "    torch.nn.ReLU(),\n",
        "    torch.nn.Linear(50, 10),\n",
        "    torch.nn.ReLU(),\n",
        "    torch.nn.Linear(10, 1),\n",
        "    torch.nn.Sigmoid()\n",
        ")\n",
        "loss_fn = torch.nn.BCELoss()\n",
        "optimizer = torch.optim.SGD(model.parameters(), lr=1e-3)\n",
        "X, Y = makeBatch(trainX, trainY, len(trainX))\n",
        "model = learn(model, loss_fn, optimizer, X, Y, 500)\n",
        "print(\"\\n\\n\")\n",
        "print(\"Train \", end=\"\")\n",
        "test(model, loss_fn, torch.Tensor(trainX), torch.Tensor(trainY))\n",
        "print(\"Test \", end=\"\")\n",
        "test(model, loss_fn, testX, testY)"
      ],
      "execution_count": 9,
      "outputs": [
        {
          "output_type": "stream",
          "text": [
            "G) \n",
            "500 th epoch Loss: 0.1310526579618454\n",
            "\n",
            "\n",
            "\n",
            "Train Accuracy:  0.9319661058577919\n",
            "Test Accuracy:  0.940935192780968\n"
          ],
          "name": "stdout"
        }
      ]
    },
    {
      "cell_type": "code",
      "metadata": {
        "id": "EKITlpXqgikL",
        "colab_type": "code",
        "outputId": "a344bf0b-c351-43f0-b8be-941318ddfbcc",
        "colab": {
          "base_uri": "https://localhost:8080/",
          "height": 121
        }
      },
      "source": [
        "model = torch.nn.Sequential(\n",
        "    torch.nn.Linear(5, 60),\n",
        "    torch.nn.ReLU(),\n",
        "    torch.nn.Linear(60, 10),\n",
        "    torch.nn.ReLU(),\n",
        "    torch.nn.Linear(10, 1),\n",
        "    torch.nn.Sigmoid()\n",
        ")\n",
        "loss_fn = torch.nn.BCELoss()\n",
        "optimizer = torch.optim.SGD(model.parameters(), lr=1e-3)\n",
        "X, Y = makeBatch(trainX, trainY, len(trainX))\n",
        "model = learn(model, loss_fn, optimizer, X, Y, 500)\n",
        "print(\"\\n\\n\")\n",
        "print(\"Train \", end=\"\")\n",
        "test(model, loss_fn, torch.Tensor(trainX), torch.Tensor(trainY))\n",
        "print(\"Test \", end=\"\")\n",
        "test(model, loss_fn, testX, testY)"
      ],
      "execution_count": 10,
      "outputs": [
        {
          "output_type": "stream",
          "text": [
            "500 th epoch Loss: 0.12553507089614868\n",
            "\n",
            "\n",
            "\n",
            "Train Accuracy:  0.9303696426378485\n",
            "Test Accuracy:  0.9410377358490566\n"
          ],
          "name": "stdout"
        }
      ]
    },
    {
      "cell_type": "code",
      "metadata": {
        "id": "6-8yHL1ViFEj",
        "colab_type": "code",
        "colab": {}
      },
      "source": [
        ""
      ],
      "execution_count": 0,
      "outputs": []
    }
  ]
}