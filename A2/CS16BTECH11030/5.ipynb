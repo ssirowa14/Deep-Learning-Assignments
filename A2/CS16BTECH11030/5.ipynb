{
 "cells": [
  {
   "cell_type": "code",
   "execution_count": 4,
   "metadata": {
    "colab": {},
    "colab_type": "code",
    "id": "dqieB094N6Nk"
   },
   "outputs": [],
   "source": [
    "import torch\n",
    "import numpy as np\n",
    "import pandas as pd\n",
    "from sklearn.preprocessing import MinMaxScaler\n",
    "from sklearn.model_selection import train_test_split\n",
    "np.random.seed(1244)"
   ]
  },
  {
   "cell_type": "markdown",
   "metadata": {
    "colab_type": "text",
    "id": "v9ja9HPSG5PC"
   },
   "source": [
    "# Prepocessing"
   ]
  },
  {
   "cell_type": "code",
   "execution_count": 2,
   "metadata": {
    "colab": {
     "base_uri": "https://localhost:8080/",
     "height": 34
    },
    "colab_type": "code",
    "id": "-RBTpdVGN--d",
    "outputId": "620d6a47-de0b-42d9-b405-ade09a867fc5"
   },
   "outputs": [
    {
     "name": "stdout",
     "output_type": "stream",
     "text": [
      "(1460, 288)\n"
     ]
    },
    {
     "name": "stderr",
     "output_type": "stream",
     "text": [
      "/home/ssirowa/.local/lib/python3.6/site-packages/sklearn/preprocessing/data.py:323: DataConversionWarning: Data with input dtype uint8, int64, float64 were all converted to float64 by MinMaxScaler.\n",
      "  return self.partial_fit(X, y)\n"
     ]
    }
   ],
   "source": [
    "data = pd.read_csv(\"train.csv\")\n",
    "label = data[\"SalePrice\"].values\n",
    "data = data.drop([\"Id\", \"SalePrice\"], axis=1)\n",
    "data = pd.get_dummies(data, dummy_na=True, drop_first=True)\n",
    "data = data.fillna(data.median())\n",
    "data = MinMaxScaler().fit_transform(data)\n",
    "print(data.shape)"
   ]
  },
  {
   "cell_type": "markdown",
   "metadata": {
    "colab_type": "text",
    "id": "Esgy_yxzHBcG"
   },
   "source": [
    "# Splitting into train and test. Dividing Training into Batches"
   ]
  },
  {
   "cell_type": "code",
   "execution_count": 3,
   "metadata": {
    "colab": {
     "base_uri": "https://localhost:8080/",
     "height": 52
    },
    "colab_type": "code",
    "id": "DQ4u-xV_PpIf",
    "outputId": "e64ac4d5-822c-417b-d8f3-88c5d747ca4f"
   },
   "outputs": [
    {
     "name": "stdout",
     "output_type": "stream",
     "text": [
      "torch.Size([73, 288])\n",
      "torch.Size([73, 1])\n"
     ]
    }
   ],
   "source": [
    "x_train, x_test, y_train, y_test = train_test_split(data,label,test_size=0.25)\n",
    "data = []\n",
    "x_batch = np.split(x_train, 15)\n",
    "y_batch = np.split(y_train, 15)\n",
    "for i in range(len(x_batch)):\n",
    "    x_batch[i] = torch.Tensor(x_batch[i])\n",
    "    y_batch[i] = torch.Tensor(y_batch[i]).view(-1, 1)\n",
    "    \n",
    "x_test = torch.Tensor(x_test)\n",
    "y_test = torch.Tensor(y_test).view(-1, 1)\n",
    "\n",
    "print(x_batch[0].shape)\n",
    "print(y_batch[0].shape)"
   ]
  },
  {
   "cell_type": "markdown",
   "metadata": {
    "colab_type": "text",
    "id": "s9JzyBQ5HLDK"
   },
   "source": [
    "# MLP Training Function"
   ]
  },
  {
   "cell_type": "code",
   "execution_count": 0,
   "metadata": {
    "colab": {},
    "colab_type": "code",
    "id": "sHeNmWeCYncQ"
   },
   "outputs": [],
   "source": [
    "def learn(model, loss_fn, optimizer, X, Y, epoch):\n",
    "    for i in range(epoch):\n",
    "        training_loss = 0.0\n",
    "        model.train()\n",
    "        for j in range(len(X)):\n",
    "            x = X[j]\n",
    "            y = torch.log(Y[j])\n",
    "            y_pred = torch.log(model(x))\n",
    "            loss = loss_fn(y_pred, y)\n",
    "            optimizer.zero_grad()\n",
    "            loss.backward()\n",
    "            optimizer.step()\n",
    "            \n",
    "            training_loss += loss.item()\n",
    "        if i%50 == 49:\n",
    "            print(i+1, \"th epoch Loss:\",training_loss/len(X))    \n",
    "        \n",
    "            \n",
    "    return model"
   ]
  },
  {
   "cell_type": "markdown",
   "metadata": {
    "colab_type": "text",
    "id": "gWc_qN5KHUdS"
   },
   "source": [
    "# MLP Testing Function"
   ]
  },
  {
   "cell_type": "code",
   "execution_count": 0,
   "metadata": {
    "colab": {},
    "colab_type": "code",
    "id": "EzpjLI54epR2"
   },
   "outputs": [],
   "source": [
    "def test(model, loss_fn, X, Y):\n",
    "    y = torch.log(Y)  \n",
    "    with torch.no_grad():\n",
    "        model.eval()\n",
    "        y_pred = torch.log(model(X))\n",
    "        \n",
    "    print(\"RMSE Error =\",torch.sqrt(loss_fn(y_pred, y)).item())\n",
    "        "
   ]
  },
  {
   "cell_type": "markdown",
   "metadata": {
    "colab_type": "text",
    "id": "6_FFivGYHZMt"
   },
   "source": [
    "# Model 1: Adam Optimiser with learning rate=1e-3"
   ]
  },
  {
   "cell_type": "code",
   "execution_count": 6,
   "metadata": {
    "colab": {
     "base_uri": "https://localhost:8080/",
     "height": 191
    },
    "colab_type": "code",
    "id": "MBswOkcrQU6N",
    "outputId": "3866e7a7-24e5-4b92-c29d-b61ccb286378"
   },
   "outputs": [
    {
     "name": "stdout",
     "output_type": "stream",
     "text": [
      "50 th epoch Loss: 1.9384838819503785\n",
      "100 th epoch Loss: 0.13554490407307943\n",
      "150 th epoch Loss: 0.11949323614438374\n",
      "200 th epoch Loss: 0.0996669165790081\n",
      "250 th epoch Loss: 0.07505549142758051\n",
      "300 th epoch Loss: 0.05257995935777823\n",
      "350 th epoch Loss: 0.040292231862743694\n",
      "400 th epoch Loss: 0.033244146530826885\n",
      "450 th epoch Loss: 0.027676005909840266\n",
      "500 th epoch Loss: 0.023435751721262933\n"
     ]
    }
   ],
   "source": [
    "torch.manual_seed(3520)\n",
    "model = torch.nn.Sequential(\n",
    "    torch.nn.Linear(288, 144),\n",
    "    torch.nn.ReLU(),\n",
    "    torch.nn.Linear(144, 72),\n",
    "    torch.nn.ReLU(),\n",
    "    torch.nn.Linear(72, 36),\n",
    "    torch.nn.ReLU(),\n",
    "    torch.nn.Linear(36, 10),\n",
    "    torch.nn.ReLU(),\n",
    "    torch.nn.Linear(10, 1)\n",
    ")\n",
    "loss_fn = torch.nn.MSELoss(reduction='mean')\n",
    "optimizer = torch.optim.Adam(model.parameters(), lr=1e-3)\n",
    "model = learn(model, loss_fn, optimizer, x_batch, y_batch, 500)"
   ]
  },
  {
   "cell_type": "markdown",
   "metadata": {
    "colab_type": "text",
    "id": "YacbBd22HnDC"
   },
   "source": [
    "# Model 1: Results"
   ]
  },
  {
   "cell_type": "code",
   "execution_count": 7,
   "metadata": {
    "colab": {
     "base_uri": "https://localhost:8080/",
     "height": 34
    },
    "colab_type": "code",
    "id": "xPF-OElMT2A0",
    "outputId": "868902fd-9345-4f6d-8180-f2bddfdec99a"
   },
   "outputs": [
    {
     "name": "stdout",
     "output_type": "stream",
     "text": [
      "RMSE Error = 0.17495395243167877\n"
     ]
    }
   ],
   "source": [
    "test(model, loss_fn, x_test, y_test)"
   ]
  },
  {
   "cell_type": "markdown",
   "metadata": {
    "colab_type": "text",
    "id": "VZDBJ5JRHvNQ"
   },
   "source": [
    "# Model 2: Adam Optimizer with learning rate=1e-3 and weight_decay=1e-4"
   ]
  },
  {
   "cell_type": "code",
   "execution_count": 8,
   "metadata": {
    "colab": {
     "base_uri": "https://localhost:8080/",
     "height": 191
    },
    "colab_type": "code",
    "id": "oEEAD4hXjkzs",
    "outputId": "2b1f8fff-ee9b-4acf-aca0-9c5fb793cddc"
   },
   "outputs": [
    {
     "name": "stdout",
     "output_type": "stream",
     "text": [
      "50 th epoch Loss: 0.7605692585309346\n",
      "100 th epoch Loss: 0.12800170481204987\n",
      "150 th epoch Loss: 0.10976973474025727\n",
      "200 th epoch Loss: 0.08520388851563136\n",
      "250 th epoch Loss: 0.04556691224376361\n",
      "300 th epoch Loss: 0.037467964986960096\n",
      "350 th epoch Loss: 0.03240322880446911\n",
      "400 th epoch Loss: 0.028466566652059554\n",
      "450 th epoch Loss: 0.02525445744395256\n",
      "500 th epoch Loss: 0.022612623622020087\n"
     ]
    }
   ],
   "source": [
    "torch.manual_seed(3520)\n",
    "model = torch.nn.Sequential(\n",
    "    torch.nn.Linear(288, 144),\n",
    "    torch.nn.ReLU(),\n",
    "    torch.nn.Linear(144, 72),\n",
    "    torch.nn.ReLU(),\n",
    "    torch.nn.Linear(72, 36),\n",
    "    torch.nn.ReLU(),\n",
    "    torch.nn.Linear(36, 10),\n",
    "    torch.nn.ReLU(),\n",
    "    torch.nn.Linear(10, 1)\n",
    ")\n",
    "loss_fn = torch.nn.MSELoss(reduction='mean')\n",
    "optimizer = torch.optim.Adam(model.parameters(), lr=1e-3, weight_decay=1e-4)\n",
    "model = learn(model, loss_fn, optimizer, x_batch, y_batch, 500)"
   ]
  },
  {
   "cell_type": "markdown",
   "metadata": {
    "colab_type": "text",
    "id": "rygdRcIyIJs_"
   },
   "source": [
    "# Model 2: Results"
   ]
  },
  {
   "cell_type": "code",
   "execution_count": 9,
   "metadata": {
    "colab": {
     "base_uri": "https://localhost:8080/",
     "height": 34
    },
    "colab_type": "code",
    "id": "m4vFP0d_qlPh",
    "outputId": "c3120abf-bcc1-4d11-e9f1-80b74d1edb05"
   },
   "outputs": [
    {
     "name": "stdout",
     "output_type": "stream",
     "text": [
      "RMSE Error = 0.1722087860107422\n"
     ]
    }
   ],
   "source": [
    "test(model, loss_fn, x_test, y_test)"
   ]
  },
  {
   "cell_type": "markdown",
   "metadata": {
    "colab_type": "text",
    "id": "2ahO37cSIcBB"
   },
   "source": [
    "# Model 3: RMSProp Optimizer"
   ]
  },
  {
   "cell_type": "code",
   "execution_count": 10,
   "metadata": {
    "colab": {
     "base_uri": "https://localhost:8080/",
     "height": 191
    },
    "colab_type": "code",
    "id": "DwXT2SR7t_DS",
    "outputId": "a44270f0-8bc3-409c-96a6-7aa115530ff2"
   },
   "outputs": [
    {
     "name": "stdout",
     "output_type": "stream",
     "text": [
      "50 th epoch Loss: 0.02331392802298069\n",
      "100 th epoch Loss: 0.018487158790230752\n",
      "150 th epoch Loss: 0.015262494857112566\n",
      "200 th epoch Loss: 0.013620435229192178\n",
      "250 th epoch Loss: 0.012325422745198012\n",
      "300 th epoch Loss: 0.01304126080746452\n",
      "350 th epoch Loss: 0.012300129979848862\n",
      "400 th epoch Loss: 0.009383811770627895\n",
      "450 th epoch Loss: 0.011749154732873043\n",
      "500 th epoch Loss: 0.01110613097747167\n"
     ]
    }
   ],
   "source": [
    "torch.manual_seed(3520)\n",
    "model = torch.nn.Sequential(\n",
    "    torch.nn.Linear(288, 144),\n",
    "    torch.nn.ReLU(),\n",
    "    torch.nn.Linear(144, 72),\n",
    "    torch.nn.ReLU(),\n",
    "    torch.nn.Linear(72, 36),\n",
    "    torch.nn.ReLU(),\n",
    "    torch.nn.Linear(36, 10),\n",
    "    torch.nn.ReLU(),\n",
    "    torch.nn.Linear(10, 1)\n",
    ")\n",
    "loss_fn = torch.nn.MSELoss(reduction='mean')\n",
    "optimizer = torch.optim.RMSprop(model.parameters(), weight_decay=1e-5)\n",
    "model = learn(model, loss_fn, optimizer, x_batch, y_batch, 500)"
   ]
  },
  {
   "cell_type": "markdown",
   "metadata": {
    "colab_type": "text",
    "id": "elViifikIith"
   },
   "source": [
    "# Model 3: Results"
   ]
  },
  {
   "cell_type": "code",
   "execution_count": 11,
   "metadata": {
    "colab": {
     "base_uri": "https://localhost:8080/",
     "height": 34
    },
    "colab_type": "code",
    "id": "LiVK6FJMoJau",
    "outputId": "24cf0ef4-b024-4026-a013-c0145026d354"
   },
   "outputs": [
    {
     "name": "stdout",
     "output_type": "stream",
     "text": [
      "RMSE Error = 0.1470322608947754\n"
     ]
    }
   ],
   "source": [
    "test(model, loss_fn, x_test, y_test)"
   ]
  },
  {
   "cell_type": "markdown",
   "metadata": {
    "colab_type": "text",
    "id": "JE3XHbdWImhp"
   },
   "source": [
    "# Model 4: Adadelta Optimizer"
   ]
  },
  {
   "cell_type": "code",
   "execution_count": 12,
   "metadata": {
    "colab": {
     "base_uri": "https://localhost:8080/",
     "height": 191
    },
    "colab_type": "code",
    "id": "rOXDXto8ojGz",
    "outputId": "687b4ae8-c380-4c81-f98a-88c963113cdf"
   },
   "outputs": [
    {
     "name": "stdout",
     "output_type": "stream",
     "text": [
      "50 th epoch Loss: 0.11055731723705928\n",
      "100 th epoch Loss: 0.08080211902658145\n",
      "150 th epoch Loss: 0.05945805658896764\n",
      "200 th epoch Loss: 0.0486931266884009\n",
      "250 th epoch Loss: 0.044367670888702075\n",
      "300 th epoch Loss: 0.04118291462461154\n",
      "350 th epoch Loss: 0.03834023351470629\n",
      "400 th epoch Loss: 0.03580118442575137\n",
      "450 th epoch Loss: 0.03355800087253253\n",
      "500 th epoch Loss: 0.031590966135263444\n"
     ]
    }
   ],
   "source": [
    "torch.manual_seed(3520)\n",
    "model = torch.nn.Sequential(\n",
    "    torch.nn.Linear(288, 144),\n",
    "    torch.nn.ReLU(),\n",
    "    torch.nn.Linear(144, 72),\n",
    "    torch.nn.ReLU(),\n",
    "    torch.nn.Linear(72, 36),\n",
    "    torch.nn.ReLU(),\n",
    "    torch.nn.Linear(36, 10),\n",
    "    torch.nn.ReLU(),\n",
    "    torch.nn.Linear(10, 1)\n",
    ")\n",
    "loss_fn = torch.nn.MSELoss(reduction='mean')\n",
    "optimizer = torch.optim.Adadelta(model.parameters(), weight_decay=1e-5)\n",
    "model = learn(model, loss_fn, optimizer, x_batch, y_batch, 500)"
   ]
  },
  {
   "cell_type": "markdown",
   "metadata": {
    "colab_type": "text",
    "id": "_gEB8UyAIsME"
   },
   "source": [
    "# Model 4: Results"
   ]
  },
  {
   "cell_type": "code",
   "execution_count": 13,
   "metadata": {
    "colab": {
     "base_uri": "https://localhost:8080/",
     "height": 34
    },
    "colab_type": "code",
    "id": "7JCL38HHpjcc",
    "outputId": "4673b7f6-03a2-43ac-b3c3-2ab115c8909b"
   },
   "outputs": [
    {
     "name": "stdout",
     "output_type": "stream",
     "text": [
      "RMSE Error = 0.19461393356323242\n"
     ]
    }
   ],
   "source": [
    "test(model, loss_fn, x_test, y_test)"
   ]
  },
  {
   "cell_type": "markdown",
   "metadata": {
    "colab_type": "text",
    "id": "Y4sihcRxIuwN"
   },
   "source": [
    "# Counclusion"
   ]
  },
  {
   "cell_type": "markdown",
   "metadata": {
    "colab_type": "text",
    "id": "eG4upsfsxmg0"
   },
   "source": [
    "Following architecture is used:\n",
    "model = \n",
    "\n",
    "torch.nn.Sequential(\n",
    "> \n",
    "    torch.nn.Linear(288, 144),\n",
    "    torch.nn.ReLU(),\n",
    "    torch.nn.Linear(144, 72),\n",
    "    torch.nn.ReLU(),\n",
    "    torch.nn.Linear(72, 36),\n",
    "    torch.nn.ReLU(),\n",
    "    torch.nn.Linear(36, 10),\n",
    "    torch.nn.ReLU(),\n",
    "    torch.nn.Linear(10, 1)\n",
    ")\n",
    "\n",
    "Best Accuracy is obtained using RMSprop optimizer with weight decay of 1e-5 and learning rate of 1e-2. It outperformed Adam Optimizer with and without weight decay.  The RMSprop optimizer is similar to the gradient descent algorithm with momentum. The RMSprop optimizer restricts the oscillations in the vertical direction. The choice of optimizer depends on the given data. The results can vary based on seed given to random number generator.\n",
    "\n",
    "\n",
    "Model 1 Error: 0.17495395243167877\n",
    "\n",
    "> \n",
    "\n",
    "\n",
    "Model 2 Error: 0.1722087860107422\n",
    "\n",
    "> \n",
    "\n",
    "\n",
    "Model 3 Error: 0.1470322608947754\n",
    "\n",
    "> \n",
    "\n",
    "\n",
    "Model 4 Error: 0.19461393356323242\n",
    "\n"
   ]
  }
 ],
 "metadata": {
  "colab": {
   "collapsed_sections": [],
   "name": "DL2_5.ipynb",
   "provenance": []
  },
  "kernelspec": {
   "display_name": "Python 3",
   "language": "python",
   "name": "python3"
  },
  "language_info": {
   "codemirror_mode": {
    "name": "ipython",
    "version": 3
   },
   "file_extension": ".py",
   "mimetype": "text/x-python",
   "name": "python",
   "nbconvert_exporter": "python",
   "pygments_lexer": "ipython3",
   "version": "3.6.8"
  }
 },
 "nbformat": 4,
 "nbformat_minor": 1
}
